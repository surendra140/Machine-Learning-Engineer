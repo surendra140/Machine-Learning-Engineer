{
 "cells": [
  {
   "cell_type": "markdown",
   "id": "5c82ffe3",
   "metadata": {},
   "source": [
    "# Machine Learning Engineer\n",
    "\n",
    "<a href=\"https://github.com/hemansnation/Machine-Learning-Engineer\">Machine Learning Engineer GitHub</a>"
   ]
  },
  {
   "cell_type": "code",
   "execution_count": null,
   "id": "272baabb",
   "metadata": {},
   "outputs": [],
   "source": [
    "Python Advance\n",
    "- Object Orientation\n",
    "- Functions\n",
    "- Recursion\n",
    "- Function as an Object\n",
    "- Decorators\n",
    "- Generators\n",
    "- Modules and Packages\n",
    "- pip"
   ]
  },
  {
   "cell_type": "code",
   "execution_count": null,
   "id": "6b698998",
   "metadata": {},
   "outputs": [],
   "source": [
    "Data Structures\n",
    "- Time Complexity\n",
    "- Big(O) Notation\n",
    "- Binary Search\n",
    "- Sorts: Bubble, Quick, Merge, Selection, Insertion\n",
    "- Tree\n",
    "- Graphs\n",
    "- BFS and DFS\n",
    "- Heap"
   ]
  },
  {
   "cell_type": "code",
   "execution_count": null,
   "id": "de93899a",
   "metadata": {},
   "outputs": [],
   "source": [
    "Questions Algorithm-Based\n",
    "- Euler Project\n",
    "- Hacker Rank\n",
    "- LeetCode"
   ]
  },
  {
   "cell_type": "code",
   "execution_count": null,
   "id": "e02b68ad",
   "metadata": {},
   "outputs": [],
   "source": [
    "Operating System\n",
    "- Process Scheduling\n",
    "- Multi Threading\n",
    "- Memory Management\n",
    "- File Management"
   ]
  },
  {
   "cell_type": "code",
   "execution_count": null,
   "id": "1f67702e",
   "metadata": {},
   "outputs": [],
   "source": [
    "Machine Learning\n",
    "\n",
    "1. ML Data Processing\n",
    "2. ML Concepts\n",
    "3. ML Process\n",
    "4. ML Mathematics\n",
    "5. ML Models"
   ]
  },
  {
   "cell_type": "code",
   "execution_count": null,
   "id": "6aacf8d0",
   "metadata": {},
   "outputs": [],
   "source": [
    "1. ML Data Processing\n",
    "\n",
    "Data Types - Nominal, Ordinal, Interval, Ratio\n",
    "\n",
    "Data Exploration \n",
    " - Variable Identification\n",
    " - Univariate Analysis: Continuous Features, Categorical Features\n",
    " - Bivariate Analysis\n",
    "\n",
    "Feature Cleaning\n",
    " - Missing value\n",
    " - Outliers\n",
    " - Obvious Inconsistencies\n",
    "\n",
    "Feature Imputation\n",
    " - Mean substitution\n",
    " - Regression\n",
    " - Cold-deck\n",
    " - Hot-Deck\n",
    "\n",
    "Feature Selection\n",
    " - Correlation and Covariance\n",
    " - Dimentionality Reducation: PCA, SVD\n",
    "\n",
    "Feature Encoding\n",
    " - Label Encoding\n",
    " - One Hot Encoding\n",
    "\n",
    "Feature Normalization or Scaling\n",
    " - Methods: Rescaling, Standardiztion, Scaling to unit length\n",
    "        \n",
    "Dataset Construction\n",
    " - Training Data\n",
    " - Test Data\n",
    " - Validation Data\n",
    " - Cross Validation"
   ]
  },
  {
   "cell_type": "code",
   "execution_count": null,
   "id": "ba2f8328",
   "metadata": {},
   "outputs": [],
   "source": [
    "2. ML Concepts\n",
    "\n",
    "Prediction & Inference\n",
    "Performance Analysis: Confusion Matrix, Accuracy, \n",
    "    f1 score(Precision and Recall), ROC curve, Bias-variance tradeoff,\n",
    "    Goodness of fit, Mean Squared Error, \n",
    "\n",
    "Tuning: Cross-validation, Hyperparameters - grid search, random search,\n",
    "    overfitting, underfitting, bootstrap, Bagging\n",
    "\n",
    "Types: Regression, Classification, Clustering, \n",
    "    Density Estimation, Dimentionality Reducation\n",
    "    \n",
    "\n",
    "Categories: Supervised, Unsupervised, Reinforcement\n",
    "\n",
    "\n",
    "Libraries: Python: Numpy, pandas, matplotlib, scikitlearn, tensorflow, Pytorch\n",
    "        keras, Microsoft cognitive toolkit."
   ]
  },
  {
   "cell_type": "code",
   "execution_count": null,
   "id": "fca19b06",
   "metadata": {},
   "outputs": [],
   "source": [
    "3. ML Process\n",
    "\n",
    "Questions:\n",
    "    - Is this A or B? Classification\n",
    "    - How much, how many of these? Regression\n",
    "    - How can these be grouped? Clustering\n",
    "    - What should i do now? Reinforcement\n",
    "\n",
    "Data: Find, collect,\n",
    "    \n",
    "Model\n",
    "\n",
    "Cost functions\n",
    "\n",
    "Optimization\n",
    "\n",
    "Tuning \n",
    "\n",
    "Scaling\n",
    "\n",
    "Deployment\n",
    "\n",
    "Infrastructure\n",
    "\n",
    "Direction:\n",
    "    - SaaS - pre build ML model\n",
    "    - Data Science and Applied ML\n",
    "    - ML research"
   ]
  },
  {
   "cell_type": "code",
   "execution_count": null,
   "id": "aa6b494a",
   "metadata": {},
   "outputs": [],
   "source": [
    "4. ML Mathematics\n",
    "\n",
    "Linear Algebra\n",
    " - Matrix\n",
    " - Eigen values and Eigen vectors\n",
    " - Gradient\n",
    " - Tensors\n",
    " - Curse of dimentionality\n",
    "\n",
    "Statistics\n",
    " - Measure of central tandency\n",
    " - Dispersion\n",
    " - Techniques: Hypothesis, p-value, cenral limit theorem\n",
    "\n",
    "Cost/ Loss functions\n",
    " - Maximum Likelyhood Estimation\n",
    " - Cross entropy\n",
    " - Logistic\n",
    " - Quadratic\n",
    " - 0-1 loss\n",
    " - Hinge Loss\n",
    " - Exponential Loss"
   ]
  },
  {
   "cell_type": "code",
   "execution_count": null,
   "id": "a333cb77",
   "metadata": {},
   "outputs": [],
   "source": [
    "5. ML Models\n",
    "\n",
    "Regression\n",
    "Bayesian: Naive Bayes\n",
    "Dimentionality Reduction\n",
    "Decision Trees: random forest, gradient boosting machines\n",
    "\n",
    "Clustering: k-means, fuzzy c-means\n",
    "\n",
    "Neural Networks:\n",
    "    - Units(Neurons)\n",
    "    - Input layes\n",
    "    - Hidden layers\n",
    "    - Batch Normalization\n",
    "    - Learning rate\n",
    "    - Backpropagation\n",
    "    - Activation Functions: ReLU, Sigmoid/Logistic, Binary, Tanh, softmax,\n",
    "        softplus, maxout"
   ]
  },
  {
   "cell_type": "code",
   "execution_count": null,
   "id": "a9914b9a",
   "metadata": {},
   "outputs": [],
   "source": []
  },
  {
   "cell_type": "code",
   "execution_count": null,
   "id": "60bc707d",
   "metadata": {},
   "outputs": [],
   "source": []
  },
  {
   "cell_type": "code",
   "execution_count": null,
   "id": "4831b34d",
   "metadata": {},
   "outputs": [],
   "source": []
  },
  {
   "cell_type": "code",
   "execution_count": null,
   "id": "e6bc51de",
   "metadata": {},
   "outputs": [],
   "source": []
  },
  {
   "cell_type": "code",
   "execution_count": null,
   "id": "2b68f2c3",
   "metadata": {},
   "outputs": [],
   "source": []
  },
  {
   "cell_type": "code",
   "execution_count": null,
   "id": "947ea819",
   "metadata": {},
   "outputs": [],
   "source": []
  },
  {
   "cell_type": "code",
   "execution_count": null,
   "id": "6a28662e",
   "metadata": {},
   "outputs": [],
   "source": []
  },
  {
   "cell_type": "code",
   "execution_count": null,
   "id": "513994e6",
   "metadata": {},
   "outputs": [],
   "source": []
  }
 ],
 "metadata": {
  "kernelspec": {
   "display_name": "Python 3",
   "language": "python",
   "name": "python3"
  },
  "language_info": {
   "codemirror_mode": {
    "name": "ipython",
    "version": 3
   },
   "file_extension": ".py",
   "mimetype": "text/x-python",
   "name": "python",
   "nbconvert_exporter": "python",
   "pygments_lexer": "ipython3",
   "version": "3.8.10"
  }
 },
 "nbformat": 4,
 "nbformat_minor": 5
}
